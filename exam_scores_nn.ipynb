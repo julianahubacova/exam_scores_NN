{
 "cells": [
  {
   "cell_type": "markdown",
   "metadata": {},
   "source": [
    "### Predicting Exam Scores Using a Neural Network"
   ]
  },
  {
   "cell_type": "code",
   "execution_count": 1,
   "metadata": {},
   "outputs": [],
   "source": [
    "# Import necessary libraries\n",
    "import torch\n",
    "import torch.nn as nn\n",
    "import torch.optim as optim"
   ]
  },
  {
   "cell_type": "code",
   "execution_count": 2,
   "metadata": {},
   "outputs": [
    {
     "data": {
      "text/plain": [
       "<torch._C.Generator at 0x12aa9a66130>"
      ]
     },
     "execution_count": 2,
     "metadata": {},
     "output_type": "execute_result"
    }
   ],
   "source": [
    "# Set random seed for reproducibility\n",
    "torch.manual_seed(42)"
   ]
  },
  {
   "cell_type": "code",
   "execution_count": 3,
   "metadata": {},
   "outputs": [],
   "source": [
    "# Define a simple neural network for predicting exam scores\n",
    "class ExamScoreNN(nn.Module):\n",
    "    def __init__(self):\n",
    "        super(ExamScoreNN, self).__init__()\n",
    "        # Define the first hidden layer\n",
    "        self.hidden1 = nn.Linear(4,64)\n",
    "        # Define the second hidden layer\n",
    "        self.hidden2 = nn.Linear(64,32)\n",
    "        # Define the third hidden layer\n",
    "        self.hidden3 = nn.Linear(32,16)\n",
    "        # Define the output layer with 1 neuron\n",
    "        self.output = nn.Linear(16,1)\n",
    "\n",
    "\n",
    "    def forward(self, x):\n",
    "        # Apply ReLU activation to the hidden layer\n",
    "        x = torch.relu(self.hidden1(x))\n",
    "        x = torch.relu(self.hidden2(x))\n",
    "        x = torch.relu(self.hidden3(x))\n",
    "        # Pass the result through the output layer\n",
    "        x = self.output(x)\n",
    "        return x\n"
   ]
  },
  {
   "cell_type": "code",
   "execution_count": 4,
   "metadata": {},
   "outputs": [
    {
     "name": "stdout",
     "output_type": "stream",
     "text": [
      "Model Architecture:\n",
      "ExamScoreNN(\n",
      "  (hidden1): Linear(in_features=4, out_features=64, bias=True)\n",
      "  (hidden2): Linear(in_features=64, out_features=32, bias=True)\n",
      "  (hidden3): Linear(in_features=32, out_features=16, bias=True)\n",
      "  (output): Linear(in_features=16, out_features=1, bias=True)\n",
      ")\n"
     ]
    }
   ],
   "source": [
    "# Instantiate the neural network\n",
    "model = ExamScoreNN()\n",
    "\n",
    "# Print the model architecture\n",
    "print(\"Model Architecture:\")\n",
    "print(model)"
   ]
  }
 ],
 "metadata": {
  "kernelspec": {
   "display_name": "workshopenv",
   "language": "python",
   "name": "python3"
  },
  "language_info": {
   "codemirror_mode": {
    "name": "ipython",
    "version": 3
   },
   "file_extension": ".py",
   "mimetype": "text/x-python",
   "name": "python",
   "nbconvert_exporter": "python",
   "pygments_lexer": "ipython3",
   "version": "3.11.9"
  }
 },
 "nbformat": 4,
 "nbformat_minor": 2
}
