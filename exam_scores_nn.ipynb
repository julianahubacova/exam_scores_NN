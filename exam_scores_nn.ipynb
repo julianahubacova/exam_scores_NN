{
 "cells": [
  {
   "cell_type": "markdown",
   "metadata": {},
   "source": [
    "### Predicting Exam Scores Using a Neural Network"
   ]
  },
  {
   "cell_type": "code",
   "execution_count": 1,
   "metadata": {},
   "outputs": [],
   "source": [
    "# Import necessary libraries\n",
    "import torch\n",
    "import torch.nn as nn\n",
    "import torch.optim as optim"
   ]
  },
  {
   "cell_type": "code",
   "execution_count": 2,
   "metadata": {},
   "outputs": [
    {
     "data": {
      "text/plain": [
       "<torch._C.Generator at 0x21158c26130>"
      ]
     },
     "execution_count": 2,
     "metadata": {},
     "output_type": "execute_result"
    }
   ],
   "source": [
    "# Set random seed for reproducibility\n",
    "torch.manual_seed(42)"
   ]
  },
  {
   "cell_type": "markdown",
   "metadata": {},
   "source": [
    "We're defining the neural network with the following parameters:\n",
    "- **Three hidden layers** with 64, 32, 16 neurons respectively\n",
    "- We use the **LeakyReLU** activation function instead of ReLU to prevent dying neurons (from ReLU), this ensures that neurons can still learn even when they output negative values.\n",
    "- **Adam** is chosen as the optimizer because it adapts learning rates for each parameter, this leads to faster convergence and better performance on small datasets like this one without too much hyperparameter tuning.\n"
   ]
  },
  {
   "cell_type": "code",
   "execution_count": 3,
   "metadata": {},
   "outputs": [],
   "source": [
    "# Define a simple neural network for predicting exam scores\n",
    "class ExamScoreNN(nn.Module):\n",
    "    def __init__(self):\n",
    "        super(ExamScoreNN, self).__init__()\n",
    "        # Define the first hidden layer\n",
    "        self.hidden1 = nn.Linear(4,64)\n",
    "        # Define the second hidden layer\n",
    "        self.hidden2 = nn.Linear(64,32)\n",
    "        # Define the third hidden layer\n",
    "        self.hidden3 = nn.Linear(32,16)\n",
    "        # Define the output layer with 1 neuron\n",
    "        self.output = nn.Linear(16,1)\n",
    "\n",
    "\n",
    "    def forward(self, x):\n",
    "        # Apply ReLU activation to the hidden layer\n",
    "        x = torch.relu(self.hidden1(x))\n",
    "        x = torch.relu(self.hidden2(x))\n",
    "        x = torch.relu(self.hidden3(x))\n",
    "        # Pass the result through the output layer\n",
    "        x = self.output(x)\n",
    "        return x\n"
   ]
  },
  {
   "cell_type": "code",
   "execution_count": 4,
   "metadata": {},
   "outputs": [
    {
     "name": "stdout",
     "output_type": "stream",
     "text": [
      "Model Architecture:\n",
      "ExamScoreNN(\n",
      "  (hidden1): Linear(in_features=4, out_features=64, bias=True)\n",
      "  (hidden2): Linear(in_features=64, out_features=32, bias=True)\n",
      "  (hidden3): Linear(in_features=32, out_features=16, bias=True)\n",
      "  (output): Linear(in_features=16, out_features=1, bias=True)\n",
      ")\n"
     ]
    }
   ],
   "source": [
    "# Instantiate the neural network\n",
    "model = ExamScoreNN()\n",
    "\n",
    "# Print the model architecture\n",
    "print(\"Model Architecture:\")\n",
    "print(model)"
   ]
  },
  {
   "cell_type": "code",
   "execution_count": 5,
   "metadata": {},
   "outputs": [],
   "source": [
    "# Dataset: Features [Hours Studied, Hours of Sleep Before Exam, Total Attendance, Ability]\n",
    "data = torch.tensor([\n",
    "[1.0, 5.0, 80.0, 60.0],\n",
    "[2.0, 6.0, 85.0, 65.0],\n",
    "[3.0, 4.0, 90.0, 70.0],\n",
    "[4.0, 7.0, 95.0, 75.0],\n",
    "[5.0, 8.0, 100.0, 80.0],\n",
    "[2.5, 6.5, 88.0, 68.0],\n",
    "[3.5, 5.0, 92.0, 72.0],\n",
    "[1.5, 4.5, 78.0, 58.0],\n",
    "[6.0, 9.0, 110.0, 85.0],\n",
    "[4.5, 7.5, 98.0, 77.0],\n",
    "[3.0, 5.5, 87.0, 69.0],\n",
    "[2.0, 4.0, 83.0, 63.0],\n",
    "[7.0, 10.0, 120.0, 90.0],\n",
    "[5.5, 8.5, 102.0, 82.0],\n",
    "[6.5, 9.5, 115.0, 88.0],\n",
    "[4.0, 6.0, 93.0, 74.0],\n",
    "[3.5, 6.5, 89.0, 71.0],\n",
    "[1.0, 3.5, 75.0, 55.0]\n",
    "])\n",
    "# Labels: [Exam Scores]\n",
    "labels = torch.tensor([\n",
    "[50.0],\n",
    "[65.0],\n",
    "[70.0],\n",
    "[85.0],\n",
    "[90.0],\n",
    "[75.0],\n",
    "[80.0],\n",
    "[55.0],\n",
    "[95.0],\n",
    "[88.0],\n",
    "[72.0],\n",
    "[60.0],\n",
    "[100.0],\n",
    "[92.0],\n",
    "[98.0],\n",
    "[83.0],\n",
    "[78.0],\n",
    "[52.0]\n",
    "])"
   ]
  },
  {
   "cell_type": "code",
   "execution_count": 6,
   "metadata": {},
   "outputs": [],
   "source": [
    "# Define the loss function (Mean Squared Error)\n",
    "criterion = nn.MSELoss()\n",
    "\n",
    "# Define the optimizer (Adam)\n",
    "optimizer = optim.Adam(model.parameters(), lr=0.0001) \n",
    "\n",
    "# Number of training epochs\n",
    "epochs = 800"
   ]
  },
  {
   "cell_type": "code",
   "execution_count": 7,
   "metadata": {},
   "outputs": [
    {
     "name": "stdout",
     "output_type": "stream",
     "text": [
      "Epoch [10/800], Loss: 5799.5527\n",
      "Epoch [20/800], Loss: 5707.3428\n",
      "Epoch [30/800], Loss: 5616.5469\n",
      "Epoch [40/800], Loss: 5524.6973\n",
      "Epoch [50/800], Loss: 5433.8140\n",
      "Epoch [60/800], Loss: 5340.1475\n",
      "Epoch [70/800], Loss: 5242.5674\n",
      "Epoch [80/800], Loss: 5141.0312\n",
      "Epoch [90/800], Loss: 5035.4375\n",
      "Epoch [100/800], Loss: 4925.1909\n",
      "Epoch [110/800], Loss: 4806.2080\n",
      "Epoch [120/800], Loss: 4680.1348\n",
      "Epoch [130/800], Loss: 4554.8262\n",
      "Epoch [140/800], Loss: 4424.6514\n",
      "Epoch [150/800], Loss: 4290.6060\n",
      "Epoch [160/800], Loss: 4152.0371\n",
      "Epoch [170/800], Loss: 4008.7996\n",
      "Epoch [180/800], Loss: 3861.0732\n",
      "Epoch [190/800], Loss: 3709.0391\n",
      "Epoch [200/800], Loss: 3554.8503\n",
      "Epoch [210/800], Loss: 3401.8401\n",
      "Epoch [220/800], Loss: 3246.1279\n",
      "Epoch [230/800], Loss: 3089.3047\n",
      "Epoch [240/800], Loss: 2936.2312\n",
      "Epoch [250/800], Loss: 2780.5493\n",
      "Epoch [260/800], Loss: 2624.1931\n",
      "Epoch [270/800], Loss: 2467.6509\n",
      "Epoch [280/800], Loss: 2311.3684\n",
      "Epoch [290/800], Loss: 2155.9956\n",
      "Epoch [300/800], Loss: 2002.2235\n",
      "Epoch [310/800], Loss: 1850.7446\n",
      "Epoch [320/800], Loss: 1702.2743\n",
      "Epoch [330/800], Loss: 1557.5695\n",
      "Epoch [340/800], Loss: 1417.3722\n",
      "Epoch [350/800], Loss: 1282.4132\n",
      "Epoch [360/800], Loss: 1153.3795\n",
      "Epoch [370/800], Loss: 1030.9044\n",
      "Epoch [380/800], Loss: 915.5483\n",
      "Epoch [390/800], Loss: 807.7800\n",
      "Epoch [400/800], Loss: 707.9656\n",
      "Epoch [410/800], Loss: 616.3539\n",
      "Epoch [420/800], Loss: 533.0714\n",
      "Epoch [430/800], Loss: 458.1144\n",
      "Epoch [440/800], Loss: 391.3519\n",
      "Epoch [450/800], Loss: 332.5308\n",
      "Epoch [460/800], Loss: 281.2860\n",
      "Epoch [470/800], Loss: 237.1555\n",
      "Epoch [480/800], Loss: 194.7637\n",
      "Epoch [490/800], Loss: 150.4077\n",
      "Epoch [500/800], Loss: 115.7215\n",
      "Epoch [510/800], Loss: 90.6657\n",
      "Epoch [520/800], Loss: 73.3402\n",
      "Epoch [530/800], Loss: 61.7694\n",
      "Epoch [540/800], Loss: 54.2904\n",
      "Epoch [550/800], Loss: 49.6065\n",
      "Epoch [560/800], Loss: 46.7592\n",
      "Epoch [570/800], Loss: 45.0819\n",
      "Epoch [580/800], Loss: 44.1221\n",
      "Epoch [590/800], Loss: 43.5850\n",
      "Epoch [600/800], Loss: 43.2907\n",
      "Epoch [610/800], Loss: 43.1312\n",
      "Epoch [620/800], Loss: 43.0441\n",
      "Epoch [630/800], Loss: 42.9949\n",
      "Epoch [640/800], Loss: 42.9650\n",
      "Epoch [650/800], Loss: 42.9442\n",
      "Epoch [660/800], Loss: 42.9279\n",
      "Epoch [670/800], Loss: 42.9136\n",
      "Epoch [680/800], Loss: 42.9001\n",
      "Epoch [690/800], Loss: 42.8863\n",
      "Epoch [700/800], Loss: 42.8725\n",
      "Epoch [710/800], Loss: 42.8587\n",
      "Epoch [720/800], Loss: 42.8451\n",
      "Epoch [730/800], Loss: 42.8316\n",
      "Epoch [740/800], Loss: 42.8184\n",
      "Epoch [750/800], Loss: 42.8053\n",
      "Epoch [760/800], Loss: 42.7921\n",
      "Epoch [770/800], Loss: 42.7793\n",
      "Epoch [780/800], Loss: 42.7665\n",
      "Epoch [790/800], Loss: 42.7536\n",
      "Epoch [800/800], Loss: 42.7405\n"
     ]
    }
   ],
   "source": [
    "# List to store loss values for visualization\n",
    "epoch_losses = []\n",
    "\n",
    "# Training loop\n",
    "for epoch in range(epochs):\n",
    "    \n",
    "    # Forward pass\n",
    "    outputs = model(data)\n",
    "    loss = criterion(outputs, labels) \n",
    "\n",
    "    # Backpropagation\n",
    "    optimizer.zero_grad()  # Clear previous gradients\n",
    "    loss.backward()        # Compute gradients\n",
    "    optimizer.step()       # Update weights\n",
    "\n",
    "    # Store the loss for this epoch\n",
    "    epoch_losses.append(loss.item())\n",
    "    \n",
    "    # Print loss every 10 epochs\n",
    "    if (epoch + 1) % 10 == 0:\n",
    "        print(f\"Epoch [{epoch + 1}/{epochs}], Loss: {loss.item():.4f}\")"
   ]
  },
  {
   "cell_type": "code",
   "execution_count": 8,
   "metadata": {},
   "outputs": [
    {
     "data": {
      "image/png": "[encoded data removed]",
      "text/plain": [
       "<Figure size 640x480 with 1 Axes>"
      ]
     },
     "metadata": {},
     "output_type": "display_data"
    }
   ],
   "source": [
    "# Plot the loss curve\n",
    "import matplotlib.pyplot as plt\n",
    "\n",
    "# Ensure plots render properly in Jupyter\n",
    "%matplotlib inline \n",
    "\n",
    "plt.plot(epoch_losses, label=\"Training Loss\")\n",
    "plt.xlabel(\"Epochs\")\n",
    "plt.ylabel(\"Loss\")\n",
    "plt.title(\"Loss Curve\")\n",
    "plt.legend()\n",
    "plt.grid(True)\n",
    "plt.savefig(\"loss_curve.png\")  # Save the plot as an image\n",
    "plt.show()"
   ]
  },
  {
   "cell_type": "markdown",
   "metadata": {},
   "source": [
    "We first tried different learning rates (0.1, 0.01, 0.001) and epoch values (100, 500, 1000) to find the best model performance. A higher learning rate led to instability - given that we got fluctuations in the loss function - while a lower learning rate improved the convergence. We adjusted these hyperparameters one by one and monitored the loss curve. We found that the loss consistently decreased and stabilized around 500 epochs with a learning rate of 0.0001 as seen in the plot above. Note that in our code we put 800 epochs to get a better visualization of the loss curve."
   ]
  },
  {
   "cell_type": "markdown",
   "metadata": {},
   "source": []
  }
 ],
 "metadata": {
  "kernelspec": {
   "display_name": "workshopenv",
   "language": "python",
   "name": "python3"
  },
  "language_info": {
   "codemirror_mode": {
    "name": "ipython",
    "version": 3
   },
   "file_extension": ".py",
   "mimetype": "text/x-python",
   "name": "python",
   "nbconvert_exporter": "python",
   "pygments_lexer": "ipython3",
   "version": "3.11.9"
  }
 },
 "nbformat": 4,
 "nbformat_minor": 2
}
